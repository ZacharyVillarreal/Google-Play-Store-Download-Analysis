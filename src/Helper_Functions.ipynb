{
 "cells": [
  {
   "cell_type": "markdown",
   "metadata": {},
   "source": [
    "# Imports"
   ]
  },
  {
   "cell_type": "code",
   "execution_count": 21,
   "metadata": {},
   "outputs": [],
   "source": [
    "import numpy as np\n",
    "import pandas as pd\n",
    "import matplotlib.pyplot as plt \n",
    "from datetime import datetime, date\n",
    "from string import *"
   ]
  },
  {
   "cell_type": "markdown",
   "metadata": {},
   "source": [
    "# Data Cleaning"
   ]
  },
  {
   "cell_type": "code",
   "execution_count": 1,
   "metadata": {},
   "outputs": [],
   "source": [
    "def remove_non_num_str_rows(df, col):\n",
    "    '''\n",
    "    remove_non_num_str_rows: takes in a Pandas DataFrame, DataFrame column\n",
    "    and removes the rows with strings containing non-numerical strings\n",
    "\n",
    "    Parameters\n",
    "    ----------\n",
    "    df: Pandas Dataframe\n",
    "    col: Pandas column (df.column_name)\n",
    "\n",
    "    Returns\n",
    "    -------\n",
    "    DataFrame with dropped rows\n",
    "    '''\n",
    "    accum_row_idx_list = []\n",
    "    drop_list = []\n",
    "    for _ in col:\n",
    "        for j in _:\n",
    "            if j in ascii_letters:\n",
    "                accum_row_idx_list.append(df.index[col == _].tolist())\n",
    "    for _ in accum_row_idx_list:\n",
    "        for j in _:\n",
    "            drop_list.append(j)\n",
    "    df.drop(drop_list, axis = 0, inplace = True)"
   ]
  },
  {
   "cell_type": "code",
   "execution_count": 29,
   "metadata": {},
   "outputs": [],
   "source": [
    "def remove_spaces(string): \n",
    "    '''\n",
    "    remove_spaces: takes in a string and removes spaces\n",
    "    \n",
    "    Parameter\n",
    "    ---------\n",
    "    string: python string\n",
    "    \n",
    "    Returns\n",
    "    -------\n",
    "        Python string with no spaces\n",
    "    '''\n",
    "    return string.replace(\" \", \"\") "
   ]
  },
  {
   "cell_type": "code",
   "execution_count": 30,
   "metadata": {},
   "outputs": [],
   "source": [
    "def convertible_to_float(string):\n",
    "    '''\n",
    "    convertible_to_float: takes in a string and determines if the string is able to convert to a float\n",
    "    if not, and occurs ValueError, returns False\n",
    "    \n",
    "    Parameter\n",
    "    ---------\n",
    "    string: Python string\n",
    "    \n",
    "    Returns\n",
    "    -------\n",
    "    True/False on the basis of string to float conversion\n",
    "    '''\n",
    "    try:\n",
    "        float(string)\n",
    "        return True\n",
    "    except ValueError:\n",
    "        return False"
   ]
  },
  {
   "cell_type": "code",
   "execution_count": 31,
   "metadata": {},
   "outputs": [],
   "source": [
    "def replace_non_date_str_rows(df, col):\n",
    "    '''\n",
    "    remove_non_num_str_rows: takes in a Pandas DataFrame, DataFrame column\n",
    "    and removes the rows with strings containing non-numerical strings\n",
    "\n",
    "    Parameters\n",
    "    ----------\n",
    "    df: Pandas Dataframe\n",
    "    col: Pandas column (df.column_name)\n",
    "\n",
    "    Returns\n",
    "    -------\n",
    "    DataFrame with rows equalling NaN values\n",
    "    '''\n",
    "    drop_list = []\n",
    "    for _ in col:\n",
    "        if _[0].lower() not in ascii_letters:\n",
    "            drop_list.append(_)\n",
    "    col = col.replace(drop_list, np.nan)"
   ]
  },
  {
   "cell_type": "code",
   "execution_count": null,
   "metadata": {},
   "outputs": [],
   "source": []
  }
 ],
 "metadata": {
  "kernelspec": {
   "display_name": "Python 3.7.4 64-bit ('base': conda)",
   "language": "python",
   "name": "python37464bitbaseconda7d173c5ac3d647bb86950a56c57e9e53"
  },
  "language_info": {
   "codemirror_mode": {
    "name": "ipython",
    "version": 3
   },
   "file_extension": ".py",
   "mimetype": "text/x-python",
   "name": "python",
   "nbconvert_exporter": "python",
   "pygments_lexer": "ipython3",
   "version": "3.7.4"
  },
  "toc": {
   "base_numbering": 1,
   "nav_menu": {},
   "number_sections": true,
   "sideBar": true,
   "skip_h1_title": false,
   "title_cell": "Table of Contents",
   "title_sidebar": "Contents",
   "toc_cell": false,
   "toc_position": {},
   "toc_section_display": true,
   "toc_window_display": false
  }
 },
 "nbformat": 4,
 "nbformat_minor": 2
}
