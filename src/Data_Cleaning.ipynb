{
 "cells": [
  {
   "cell_type": "markdown",
   "metadata": {},
   "source": [
    "# Data Cleaning "
   ]
  },
  {
   "cell_type": "markdown",
   "metadata": {},
   "source": [
    "## Imports"
   ]
  },
  {
   "cell_type": "code",
   "execution_count": 15,
   "metadata": {},
   "outputs": [],
   "source": [
    "import pandas as pd\n",
    "import matplotlib.pyplot as plt\n",
    "import numpy as np\n",
    "import seaborn as sns\n",
    "import re\n",
    "from string import *\n",
    "\n",
    "from datetime import datetime, date"
   ]
  },
  {
   "cell_type": "code",
   "execution_count": 23,
   "metadata": {},
   "outputs": [],
   "source": [
    "from ipynb.fs.full.Helper_Functions import *"
   ]
  },
  {
   "cell_type": "markdown",
   "metadata": {},
   "source": [
    "## Loading in Data"
   ]
  },
  {
   "cell_type": "code",
   "execution_count": 3,
   "metadata": {},
   "outputs": [],
   "source": [
    "play_store_data = pd.read_csv('../../Google-Playstore-Full.csv',\n",
    "                              low_memory=False)"
   ]
  },
  {
   "cell_type": "markdown",
   "metadata": {},
   "source": [
    "## First Look"
   ]
  },
  {
   "cell_type": "code",
   "execution_count": 4,
   "metadata": {
    "collapsed": true
   },
   "outputs": [
    {
     "name": "stdout",
     "output_type": "stream",
     "text": [
      "The shape of the data (samples, features) is:  (267052, 15)\n",
      "<class 'pandas.core.frame.DataFrame'>\n",
      "RangeIndex: 267052 entries, 0 to 267051\n",
      "Data columns (total 15 columns):\n",
      "App Name           267051 non-null object\n",
      "Category           267051 non-null object\n",
      "Rating             267052 non-null object\n",
      "Reviews            267051 non-null object\n",
      "Installs           267052 non-null object\n",
      "Size               267052 non-null object\n",
      "Price              267052 non-null object\n",
      "Content Rating     267052 non-null object\n",
      "Last Updated       267052 non-null object\n",
      "Minimum Version    267051 non-null object\n",
      "Latest Version     267049 non-null object\n",
      "Unnamed: 11        18 non-null object\n",
      "Unnamed: 12        3 non-null object\n",
      "Unnamed: 13        2 non-null object\n",
      "Unnamed: 14        1 non-null float64\n",
      "dtypes: float64(1), object(14)\n",
      "memory usage: 30.6+ MB\n"
     ]
    }
   ],
   "source": [
    "# Counting Rows and Columns of the DF\n",
    "print('The shape of the data (samples, features) is: ', play_store_data.shape)\n",
    "play_store_data.info()"
   ]
  },
  {
   "cell_type": "code",
   "execution_count": 5,
   "metadata": {},
   "outputs": [],
   "source": [
    "#Renaming all columns so that if they have a space, it's replaced by _\n",
    "play_store_data.columns = play_store_data.columns.str.replace(\" \", \"_\")"
   ]
  },
  {
   "cell_type": "markdown",
   "metadata": {},
   "source": [
    "## Column Clean Up"
   ]
  },
  {
   "cell_type": "markdown",
   "metadata": {},
   "source": [
    "### Removing Unneeded Columns"
   ]
  },
  {
   "cell_type": "code",
   "execution_count": 6,
   "metadata": {},
   "outputs": [],
   "source": [
    "# Dropping Unnamed Columns\n",
    "play_store_data.drop(play_store_data.columns[\n",
    "    play_store_data.columns.str.contains('unnamed', case=False)], axis=1, inplace=True)\n",
    "\n",
    "# Dropping Minimum Version (Not neccesary for Hypothesis Testing)\n",
    "play_store_data.drop('Minimum_Version', axis=1, inplace=True)"
   ]
  },
  {
   "cell_type": "markdown",
   "metadata": {},
   "source": [
    "### Rating Column"
   ]
  },
  {
   "cell_type": "code",
   "execution_count": 7,
   "metadata": {},
   "outputs": [],
   "source": [
    "# If there are any non numbered strings in the ratings column, its rows are dropped\n",
    "remove_non_num_str_rows(play_store_data, play_store_data.Rating)\n",
    "\n",
    "# Converting the rating column to float\n",
    "play_store_data['Rating'] = play_store_data['Rating'].astype(float).round(2)"
   ]
  },
  {
   "cell_type": "markdown",
   "metadata": {},
   "source": [
    "### Review Column"
   ]
  },
  {
   "cell_type": "code",
   "execution_count": 8,
   "metadata": {},
   "outputs": [],
   "source": [
    "# Ensuring that all the values of the reviews are string representations of integers\n",
    "play_store_data.Reviews.str.isnumeric().sum()\n",
    "\n",
    "# Converting string to integer\n",
    "play_store_data.Reviews = play_store_data.Reviews.astype(int)"
   ]
  },
  {
   "cell_type": "markdown",
   "metadata": {},
   "source": [
    "### Installs Column"
   ]
  },
  {
   "cell_type": "code",
   "execution_count": 10,
   "metadata": {},
   "outputs": [],
   "source": [
    "# Strip commas and + signs to be able to convert strings to integers\n",
    "\n",
    "play_store_data.Installs = play_store_data.Installs.apply(\n",
    "    lambda x: x.replace(',', ''))\n",
    "play_store_data.Installs = play_store_data.Installs.apply(\n",
    "    lambda x: x.strip('+'))\n",
    "\n",
    "# Convert non integer strings to NaN\n",
    "play_store_data.Installs = play_store_data.Installs.replace(' Xmax X', np.nan)"
   ]
  },
  {
   "cell_type": "markdown",
   "metadata": {},
   "source": [
    "### Size Column"
   ]
  },
  {
   "cell_type": "code",
   "execution_count": 11,
   "metadata": {},
   "outputs": [],
   "source": [
    "# Converts M(megabyte) and k(kilobyte) to numerical representations\n",
    "play_store_data.Size = play_store_data.Size.str.replace('k', 'e+3')\n",
    "play_store_data.Size = play_store_data.Size.str.replace('M', 'e+6')\n",
    "\n",
    "# Remove any commas in the numerical strings\n",
    "# Replaces the one row that has 'e+6USIC_AND_AUDIO' with NaN value.\n",
    "play_store_data.Size = play_store_data.Size.str.replace(',', '')\n",
    "play_store_data.Size = play_store_data.Size.replace(\n",
    "    'e+6USIC_AND_AUDIO', np.nan)\n",
    "\n",
    "# Creating list of bools to see what can be converted to a float\n",
    "# float_bool = play_store_data.Size.apply(lambda x: convertible_to_float(x))\n",
    "\n",
    "# Replacing 'Varies with Device' with NaN value.\n",
    "play_store_data.Size = play_store_data.Size.replace(\n",
    "    'Varies with device', np.nan)\n",
    "\n",
    "# Converting the Size Column to numeric type (convert e+6 to numeric representation)\n",
    "play_store_data.Size = pd.to_numeric(play_store_data.Size)"
   ]
  },
  {
   "cell_type": "markdown",
   "metadata": {},
   "source": [
    "### Price Column"
   ]
  },
  {
   "cell_type": "code",
   "execution_count": 12,
   "metadata": {},
   "outputs": [],
   "source": [
    "#Remove the Dollar($) sign\n",
    "play_store_data.Price = play_store_data.Price.apply(lambda x: x.strip('$'))\n",
    "\n",
    "# Conversion to a numerical value\n",
    "play_store_data.Price = pd.to_numeric(play_store_data.Price)"
   ]
  },
  {
   "cell_type": "markdown",
   "metadata": {},
   "source": [
    "### Content Rating"
   ]
  },
  {
   "cell_type": "code",
   "execution_count": 13,
   "metadata": {},
   "outputs": [],
   "source": [
    "#Have to replace the one column abnormality (3702) with NaN\n",
    "play_store_data.Content_Rating = play_store_data.Content_Rating.replace('3702', np.nan)"
   ]
  },
  {
   "cell_type": "markdown",
   "metadata": {},
   "source": [
    "### Last Updated"
   ]
  },
  {
   "cell_type": "code",
   "execution_count": 24,
   "metadata": {},
   "outputs": [],
   "source": [
    "#Checking for the non-date valuesabs\n"
   ]
  },
  {
   "cell_type": "code",
   "execution_count": null,
   "metadata": {},
   "outputs": [],
   "source": []
  }
 ],
 "metadata": {
  "kernelspec": {
   "display_name": "Python 3.7.4 64-bit ('base': conda)",
   "language": "python",
   "name": "python37464bitbaseconda7d173c5ac3d647bb86950a56c57e9e53"
  },
  "language_info": {
   "codemirror_mode": {
    "name": "ipython",
    "version": 3
   },
   "file_extension": ".py",
   "mimetype": "text/x-python",
   "name": "python",
   "nbconvert_exporter": "python",
   "pygments_lexer": "ipython3",
   "version": "3.7.4"
  },
  "toc": {
   "base_numbering": 1,
   "nav_menu": {},
   "number_sections": true,
   "sideBar": true,
   "skip_h1_title": false,
   "title_cell": "Table of Contents",
   "title_sidebar": "Contents",
   "toc_cell": false,
   "toc_position": {},
   "toc_section_display": true,
   "toc_window_display": false
  }
 },
 "nbformat": 4,
 "nbformat_minor": 2
}
