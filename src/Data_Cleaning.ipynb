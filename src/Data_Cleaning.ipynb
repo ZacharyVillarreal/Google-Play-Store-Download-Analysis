{
 "cells": [
  {
   "cell_type": "markdown",
   "metadata": {},
   "source": [
    "# Data Cleaning "
   ]
  },
  {
   "cell_type": "markdown",
   "metadata": {},
   "source": [
    "## Imports"
   ]
  },
  {
   "cell_type": "code",
   "execution_count": 1,
   "metadata": {
    "scrolled": true
   },
   "outputs": [],
   "source": [
    "import pandas as pd\n",
    "import matplotlib.pyplot as plt\n",
    "import numpy as np\n",
    "import seaborn as sns\n",
    "import re\n",
    "from string import *\n",
    "from datetime import datetime, date\n",
    "import nbimporter\n",
    "from Helper_Functions import *"
   ]
  },
  {
   "cell_type": "markdown",
   "metadata": {},
   "source": [
    "## Loading the Data Set"
   ]
  },
  {
   "cell_type": "code",
   "execution_count": 2,
   "metadata": {},
   "outputs": [],
   "source": [
    "play_store_data = pd.read_csv('../../Google-Playstore-Full.csv',\n",
    "                              low_memory=False)"
   ]
  },
  {
   "cell_type": "markdown",
   "metadata": {},
   "source": [
    "## First Look"
   ]
  },
  {
   "cell_type": "code",
   "execution_count": 3,
   "metadata": {
    "scrolled": true
   },
   "outputs": [
    {
     "name": "stdout",
     "output_type": "stream",
     "text": [
      "The shape of the data (samples, features) is:  (267052, 15)\n"
     ]
    }
   ],
   "source": [
    "# Counting Rows and Columns of the DF\n",
    "print('The shape of the data (samples, features) is: ', play_store_data.shape)\n",
    "# play_store_data.info()"
   ]
  },
  {
   "cell_type": "code",
   "execution_count": 4,
   "metadata": {},
   "outputs": [],
   "source": [
    "#Renaming all columns so that if they have a space, it's replaced by _\n",
    "play_store_data.columns = play_store_data.columns.str.replace(\" \", \"_\")"
   ]
  },
  {
   "cell_type": "markdown",
   "metadata": {},
   "source": [
    "## Column Clean Up"
   ]
  },
  {
   "cell_type": "markdown",
   "metadata": {},
   "source": [
    "### Removing Unneeded Columns"
   ]
  },
  {
   "cell_type": "code",
   "execution_count": 5,
   "metadata": {},
   "outputs": [],
   "source": [
    "# Dropping Unnamed Columns\n",
    "play_store_data.drop(play_store_data.columns[\n",
    "    play_store_data.columns.str.contains('unnamed', case=False)], axis=1, inplace=True)\n",
    "\n",
    "# Dropping Minimum Version (Not neccesary for Hypothesis Testing)\n",
    "play_store_data.drop('Minimum_Version', axis=1, inplace=True)"
   ]
  },
  {
   "cell_type": "markdown",
   "metadata": {},
   "source": [
    "### Category Column"
   ]
  },
  {
   "cell_type": "code",
   "execution_count": 6,
   "metadata": {},
   "outputs": [],
   "source": [
    "# Grouping Game: Categories together under 'GAME'\n",
    "for i in play_store_data.Category.unique():\n",
    "    if 'GAME' in str(i):\n",
    "        play_store_data.Category.replace(i, 'GAME',inplace = True)"
   ]
  },
  {
   "cell_type": "markdown",
   "metadata": {},
   "source": [
    "### Rating Column"
   ]
  },
  {
   "cell_type": "code",
   "execution_count": 7,
   "metadata": {},
   "outputs": [],
   "source": [
    "# If there are any non numbered strings in the ratings column, its rows are dropped\n",
    "remove_non_num_str_rows(play_store_data, play_store_data.Rating)\n",
    "\n",
    "# Converting the rating column to float\n",
    "# play_store_data['Rating'] = play_store_data['Rating'].astype(float).round(2)"
   ]
  },
  {
   "cell_type": "markdown",
   "metadata": {},
   "source": [
    "### Review Column"
   ]
  },
  {
   "cell_type": "code",
   "execution_count": 8,
   "metadata": {},
   "outputs": [],
   "source": [
    "# Ensuring that all the values of the reviews are string representations of integers\n",
    "play_store_data.Reviews.str.isnumeric().sum()\n",
    "\n",
    "# Converting string to integer\n",
    "play_store_data.Reviews = play_store_data.Reviews.astype(int)"
   ]
  },
  {
   "cell_type": "markdown",
   "metadata": {},
   "source": [
    "### Installs Column"
   ]
  },
  {
   "cell_type": "code",
   "execution_count": 9,
   "metadata": {},
   "outputs": [],
   "source": [
    "# Strip commas and + signs to be able to convert strings to integers\n",
    "\n",
    "play_store_data.Installs = play_store_data.Installs.apply(\n",
    "    lambda x: x.replace(',', ''))\n",
    "play_store_data.Installs = play_store_data.Installs.apply(\n",
    "    lambda x: x.strip('+'))\n",
    "\n",
    "# Convert non integer strings to NaN\n",
    "play_store_data.Installs = play_store_data.Installs.replace(' Xmax X', np.nan)"
   ]
  },
  {
   "cell_type": "markdown",
   "metadata": {},
   "source": [
    "### Size Column"
   ]
  },
  {
   "cell_type": "code",
   "execution_count": 10,
   "metadata": {},
   "outputs": [],
   "source": [
    "# Converts M(megabyte) and k(kilobyte) to numerical representations\n",
    "play_store_data.Size = play_store_data.Size.str.replace('k', 'e+3')\n",
    "play_store_data.Size = play_store_data.Size.str.replace('M', 'e+6')\n",
    "\n",
    "# Remove any commas in the numerical strings\n",
    "# Replaces the one row that has 'e+6USIC_AND_AUDIO' with NaN value.\n",
    "play_store_data.Size = play_store_data.Size.str.replace(',', '')\n",
    "play_store_data.Size = play_store_data.Size.replace(\n",
    "    'e+6USIC_AND_AUDIO', np.nan)\n",
    "\n",
    "# Creating list of bools to see what can be converted to a float\n",
    "# float_bool = play_store_data.Size.apply(lambda x: convertible_to_float(x))\n",
    "\n",
    "# Replacing 'Varies with Device' with NaN value.\n",
    "play_store_data.Size = play_store_data.Size.replace(\n",
    "    'Varies with device', np.nan)\n",
    "\n",
    "# Converting the Size Column to numeric type (convert e+6 to numeric representation)\n",
    "play_store_data.Size = pd.to_numeric(play_store_data.Size)"
   ]
  },
  {
   "cell_type": "markdown",
   "metadata": {},
   "source": [
    "### Price Column"
   ]
  },
  {
   "cell_type": "code",
   "execution_count": 11,
   "metadata": {},
   "outputs": [],
   "source": [
    "#Remove the Dollar($) sign\n",
    "play_store_data.Price = play_store_data.Price.apply(lambda x: x.strip('$'))\n",
    "\n",
    "# Conversion to a numerical value\n",
    "play_store_data.Price = pd.to_numeric(play_store_data.Price)"
   ]
  },
  {
   "cell_type": "markdown",
   "metadata": {},
   "source": [
    "### Content Rating"
   ]
  },
  {
   "cell_type": "code",
   "execution_count": 12,
   "metadata": {},
   "outputs": [],
   "source": [
    "#Have to replace the one column abnormality (3702) with NaN\n",
    "play_store_data.Content_Rating = play_store_data.Content_Rating.replace('3702', np.nan)"
   ]
  },
  {
   "cell_type": "markdown",
   "metadata": {},
   "source": [
    "### Last Updated"
   ]
  },
  {
   "cell_type": "code",
   "execution_count": 13,
   "metadata": {},
   "outputs": [],
   "source": [
    "# Replacing non-date values with NaN\n",
    "replace_non_date_str_rows(play_store_data, play_store_data.Last_Updated)\n",
    "\n",
    "# Replacing 500,000+ with NaN\n",
    "play_store_data.Last_Updated = play_store_data.Last_Updated.replace('500,000+', np.nan)\n",
    "\n",
    "# Conversion to DateTime\n",
    "play_store_data.Last_Updated = pd.to_datetime(play_store_data.Last_Updated)"
   ]
  },
  {
   "cell_type": "markdown",
   "metadata": {},
   "source": [
    "### Latest Version"
   ]
  },
  {
   "cell_type": "code",
   "execution_count": 14,
   "metadata": {},
   "outputs": [],
   "source": [
    "#Finds all numerical strings, however, if they are 'Varies with Device' sets them equal to the string\n",
    "play_store_data.Latest_Version= play_store_data.Latest_Version.apply(\n",
    "    lambda x: 'Varies with device' if x=='Varies with device'  \n",
    "    else  re.findall('^[0-9]\\.[0-9]|[\\d]|W*',str(x))[0] )\n",
    "\n",
    "# Replaces 'Varies with Device' with NaN values\n",
    "play_store_data.Latest_Version = play_store_data.Latest_Version.replace('Varies with device', np.nan)\n",
    "\n",
    "# Removes non-sized strs to NaN\n",
    "# replace_non_size_str_rows(play_store_data.Latest_Version)\n",
    "\n",
    "# Replaces empty strings '' with NaN values\n",
    "play_store_data.Latest_Version = play_store_data.Latest_Version.replace('', np.nan)"
   ]
  },
  {
   "cell_type": "markdown",
   "metadata": {},
   "source": [
    "## Creation of New Columns"
   ]
  },
  {
   "cell_type": "markdown",
   "metadata": {},
   "source": [
    "### Cost"
   ]
  },
  {
   "cell_type": "code",
   "execution_count": 15,
   "metadata": {},
   "outputs": [],
   "source": [
    "#I'm concerned that the free apps(0.00) is going to far outtake the paid data and will skew the data to the left\n",
    "#thus I am going to make a new column that depicts Cost, in Paid and Free\n",
    "\n",
    "play_store_data['Cost'] = play_store_data.Price.apply(lambda x: 'Paid' if x > 0.00 else 'Free')\n",
    "\n",
    "#Move Columns so that Cost is next to 'Price'\n",
    "play_store_data = play_store_data[['App_Name', 'Category', 'Rating', 'Reviews', 'Installs', 'Size', 'Price',\n",
    "                                   'Cost', 'Content_Rating', 'Last_Updated', 'Latest_Version']]"
   ]
  },
  {
   "cell_type": "markdown",
   "metadata": {},
   "source": [
    "### Days Since Last Update"
   ]
  },
  {
   "cell_type": "code",
   "execution_count": 16,
   "metadata": {},
   "outputs": [],
   "source": [
    "# Initializing the date the data was scraped\n",
    "day_scrape = date(2019, 4, 4)\n",
    "\n",
    "# Initialization of the column\n",
    "# Difference in date scraped from date last updated\n",
    "play_store_data['Days_Since_Update'] = play_store_data.Last_Updated.apply(\n",
    "    lambda x: day_scrape - datetime.date(x))\n",
    "\n",
    "# Convert to type string\n",
    "play_store_data.Days_Since_Update = play_store_data.Days_Since_Update.astype(\n",
    "    str)\n",
    "\n",
    "# Remove commas and spaces\n",
    "play_store_data.Days_Since_Update = play_store_data.Days_Since_Update.apply(\n",
    "    lambda x: x.split(',')[0]).apply(lambda x: x.split('d')[0])\n",
    "play_store_data.Days_Since_Update = play_store_data.Days_Since_Update.str.replace(\n",
    "    ' ', '')\n",
    "\n",
    "# Replacing and NaN's with 0 days\n",
    "for i in play_store_data.Days_Since_Update:\n",
    "    for j in i:\n",
    "        if j == ':':\n",
    "            play_store_data.Days_Since_Update = play_store_data.Days_Since_Update.replace(\n",
    "                i, '0')\n",
    "\n",
    "# Updating Days Since Update column to integers\n",
    "play_store_data.Days_Since_Update = play_store_data.Days_Since_Update.astype(\n",
    "    int)"
   ]
  },
  {
   "cell_type": "markdown",
   "metadata": {},
   "source": [
    "## Final Edits"
   ]
  },
  {
   "cell_type": "markdown",
   "metadata": {},
   "source": [
    "### Remove Columns with NaN values"
   ]
  },
  {
   "cell_type": "code",
   "execution_count": 17,
   "metadata": {},
   "outputs": [],
   "source": [
    "play_store_data.dropna(how='any', inplace = True)"
   ]
  },
  {
   "cell_type": "markdown",
   "metadata": {},
   "source": [
    "### Save Cleaned DataSet"
   ]
  },
  {
   "cell_type": "code",
   "execution_count": 18,
   "metadata": {},
   "outputs": [],
   "source": [
    "play_store_data.to_csv('../Data/Cleaned_Play_Store_Data.csv')"
   ]
  }
 ],
 "metadata": {
  "kernelspec": {
   "display_name": "Python 3.7.4 64-bit ('base': conda)",
   "language": "python",
   "name": "python37464bitbaseconda7d173c5ac3d647bb86950a56c57e9e53"
  },
  "language_info": {
   "codemirror_mode": {
    "name": "ipython",
    "version": 3
   },
   "file_extension": ".py",
   "mimetype": "text/x-python",
   "name": "python",
   "nbconvert_exporter": "python",
   "pygments_lexer": "ipython3",
   "version": "3.7.4"
  },
  "toc": {
   "base_numbering": 1,
   "nav_menu": {},
   "number_sections": true,
   "sideBar": true,
   "skip_h1_title": false,
   "title_cell": "Table of Contents",
   "title_sidebar": "Contents",
   "toc_cell": false,
   "toc_position": {},
   "toc_section_display": true,
   "toc_window_display": false
  }
 },
 "nbformat": 4,
 "nbformat_minor": 2
}
