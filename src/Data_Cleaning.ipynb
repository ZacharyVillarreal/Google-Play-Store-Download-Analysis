{
 "cells": [
  {
   "cell_type": "markdown",
   "metadata": {},
   "source": [
    "# Data Cleaning "
   ]
  },
  {
   "cell_type": "markdown",
   "metadata": {},
   "source": [
    "## Imports"
   ]
  },
  {
   "cell_type": "code",
   "execution_count": 21,
   "metadata": {
    "scrolled": true
   },
   "outputs": [],
   "source": [
    "import pandas as pd\n",
    "import matplotlib.pyplot as plt\n",
    "import numpy as np\n",
    "import seaborn as sns\n",
    "import re\n",
    "from string import *\n",
    "from datetime import datetime, date\n",
    "import nbimporter\n",
    "from Helper_Functions import *"
   ]
  },
  {
   "cell_type": "markdown",
   "metadata": {},
   "source": [
    "## Loading the Data Set"
   ]
  },
  {
   "cell_type": "code",
   "execution_count": 22,
   "metadata": {},
   "outputs": [],
   "source": [
    "play_store_data = pd.read_csv('../../Google-Playstore-Full.csv',\n",
    "                              low_memory=False)"
   ]
  },
  {
   "cell_type": "code",
   "execution_count": 23,
   "metadata": {},
   "outputs": [
    {
     "data": {
      "text/html": [
       "<div>\n",
       "<style scoped>\n",
       "    .dataframe tbody tr th:only-of-type {\n",
       "        vertical-align: middle;\n",
       "    }\n",
       "\n",
       "    .dataframe tbody tr th {\n",
       "        vertical-align: top;\n",
       "    }\n",
       "\n",
       "    .dataframe thead th {\n",
       "        text-align: right;\n",
       "    }\n",
       "</style>\n",
       "<table border=\"1\" class=\"dataframe\">\n",
       "  <thead>\n",
       "    <tr style=\"text-align: right;\">\n",
       "      <th></th>\n",
       "      <th>App Name</th>\n",
       "      <th>Category</th>\n",
       "      <th>Rating</th>\n",
       "      <th>Reviews</th>\n",
       "      <th>Installs</th>\n",
       "      <th>Size</th>\n",
       "      <th>Price</th>\n",
       "      <th>Content Rating</th>\n",
       "      <th>Last Updated</th>\n",
       "      <th>Minimum Version</th>\n",
       "      <th>Latest Version</th>\n",
       "      <th>Unnamed: 11</th>\n",
       "      <th>Unnamed: 12</th>\n",
       "      <th>Unnamed: 13</th>\n",
       "      <th>Unnamed: 14</th>\n",
       "    </tr>\n",
       "  </thead>\n",
       "  <tbody>\n",
       "    <tr>\n",
       "      <td>0</td>\n",
       "      <td>DoorDash - Food Delivery</td>\n",
       "      <td>FOOD_AND_DRINK</td>\n",
       "      <td>4.548561573</td>\n",
       "      <td>305034</td>\n",
       "      <td>5,000,000+</td>\n",
       "      <td>Varies with device</td>\n",
       "      <td>0</td>\n",
       "      <td>Everyone</td>\n",
       "      <td>March 29, 2019</td>\n",
       "      <td>Varies with device</td>\n",
       "      <td>Varies with device</td>\n",
       "      <td>NaN</td>\n",
       "      <td>NaN</td>\n",
       "      <td>NaN</td>\n",
       "      <td>NaN</td>\n",
       "    </tr>\n",
       "    <tr>\n",
       "      <td>1</td>\n",
       "      <td>TripAdvisor Hotels Flights Restaurants Attract...</td>\n",
       "      <td>TRAVEL_AND_LOCAL</td>\n",
       "      <td>4.400671482</td>\n",
       "      <td>1207922</td>\n",
       "      <td>100,000,000+</td>\n",
       "      <td>Varies with device</td>\n",
       "      <td>0</td>\n",
       "      <td>Everyone</td>\n",
       "      <td>March 29, 2019</td>\n",
       "      <td>Varies with device</td>\n",
       "      <td>Varies with device</td>\n",
       "      <td>NaN</td>\n",
       "      <td>NaN</td>\n",
       "      <td>NaN</td>\n",
       "      <td>NaN</td>\n",
       "    </tr>\n",
       "    <tr>\n",
       "      <td>2</td>\n",
       "      <td>Peapod</td>\n",
       "      <td>SHOPPING</td>\n",
       "      <td>3.656329393</td>\n",
       "      <td>1967</td>\n",
       "      <td>100,000+</td>\n",
       "      <td>1.4M</td>\n",
       "      <td>0</td>\n",
       "      <td>Everyone</td>\n",
       "      <td>September 20, 2018</td>\n",
       "      <td>5.0 and up</td>\n",
       "      <td>2.2.0</td>\n",
       "      <td>NaN</td>\n",
       "      <td>NaN</td>\n",
       "      <td>NaN</td>\n",
       "      <td>NaN</td>\n",
       "    </tr>\n",
       "    <tr>\n",
       "      <td>3</td>\n",
       "      <td>foodpanda - Local Food Delivery</td>\n",
       "      <td>FOOD_AND_DRINK</td>\n",
       "      <td>4.107232571</td>\n",
       "      <td>389154</td>\n",
       "      <td>10,000,000+</td>\n",
       "      <td>16M</td>\n",
       "      <td>0</td>\n",
       "      <td>Everyone</td>\n",
       "      <td>March 22, 2019</td>\n",
       "      <td>4.2 and up</td>\n",
       "      <td>4.18.2</td>\n",
       "      <td>NaN</td>\n",
       "      <td>NaN</td>\n",
       "      <td>NaN</td>\n",
       "      <td>NaN</td>\n",
       "    </tr>\n",
       "    <tr>\n",
       "      <td>4</td>\n",
       "      <td>My CookBook Pro (Ad Free)</td>\n",
       "      <td>FOOD_AND_DRINK</td>\n",
       "      <td>4.647752285</td>\n",
       "      <td>2291</td>\n",
       "      <td>10,000+</td>\n",
       "      <td>Varies with device</td>\n",
       "      <td>$5.99</td>\n",
       "      <td>Everyone</td>\n",
       "      <td>April 1, 2019</td>\n",
       "      <td>Varies with device</td>\n",
       "      <td>Varies with device</td>\n",
       "      <td>NaN</td>\n",
       "      <td>NaN</td>\n",
       "      <td>NaN</td>\n",
       "      <td>NaN</td>\n",
       "    </tr>\n",
       "  </tbody>\n",
       "</table>\n",
       "</div>"
      ],
      "text/plain": [
       "                                            App Name          Category  \\\n",
       "0                           DoorDash - Food Delivery    FOOD_AND_DRINK   \n",
       "1  TripAdvisor Hotels Flights Restaurants Attract...  TRAVEL_AND_LOCAL   \n",
       "2                                             Peapod          SHOPPING   \n",
       "3                    foodpanda - Local Food Delivery    FOOD_AND_DRINK   \n",
       "4                          My CookBook Pro (Ad Free)    FOOD_AND_DRINK   \n",
       "\n",
       "        Rating  Reviews      Installs                Size  Price  \\\n",
       "0  4.548561573   305034    5,000,000+  Varies with device      0   \n",
       "1  4.400671482  1207922  100,000,000+  Varies with device      0   \n",
       "2  3.656329393     1967      100,000+                1.4M      0   \n",
       "3  4.107232571   389154   10,000,000+                 16M      0   \n",
       "4  4.647752285     2291       10,000+  Varies with device  $5.99   \n",
       "\n",
       "  Content Rating        Last Updated     Minimum Version      Latest Version  \\\n",
       "0       Everyone      March 29, 2019  Varies with device  Varies with device   \n",
       "1       Everyone      March 29, 2019  Varies with device  Varies with device   \n",
       "2       Everyone  September 20, 2018          5.0 and up               2.2.0   \n",
       "3       Everyone      March 22, 2019          4.2 and up              4.18.2   \n",
       "4       Everyone       April 1, 2019  Varies with device  Varies with device   \n",
       "\n",
       "  Unnamed: 11 Unnamed: 12 Unnamed: 13  Unnamed: 14  \n",
       "0         NaN         NaN         NaN          NaN  \n",
       "1         NaN         NaN         NaN          NaN  \n",
       "2         NaN         NaN         NaN          NaN  \n",
       "3         NaN         NaN         NaN          NaN  \n",
       "4         NaN         NaN         NaN          NaN  "
      ]
     },
     "execution_count": 23,
     "metadata": {},
     "output_type": "execute_result"
    }
   ],
   "source": [
    "play_store_data.head()"
   ]
  },
  {
   "cell_type": "markdown",
   "metadata": {},
   "source": [
    "## First Look"
   ]
  },
  {
   "cell_type": "code",
   "execution_count": 24,
   "metadata": {},
   "outputs": [
    {
     "name": "stdout",
     "output_type": "stream",
     "text": [
      "The shape of the data (samples, features) is:  (267052, 15)\n",
      "<class 'pandas.core.frame.DataFrame'>\n",
      "RangeIndex: 267052 entries, 0 to 267051\n",
      "Data columns (total 15 columns):\n",
      "App Name           267051 non-null object\n",
      "Category           267051 non-null object\n",
      "Rating             267052 non-null object\n",
      "Reviews            267051 non-null object\n",
      "Installs           267052 non-null object\n",
      "Size               267052 non-null object\n",
      "Price              267052 non-null object\n",
      "Content Rating     267052 non-null object\n",
      "Last Updated       267052 non-null object\n",
      "Minimum Version    267051 non-null object\n",
      "Latest Version     267049 non-null object\n",
      "Unnamed: 11        18 non-null object\n",
      "Unnamed: 12        3 non-null object\n",
      "Unnamed: 13        2 non-null object\n",
      "Unnamed: 14        1 non-null float64\n",
      "dtypes: float64(1), object(14)\n",
      "memory usage: 30.6+ MB\n"
     ]
    }
   ],
   "source": [
    "# Counting Rows and Columns of the DF\n",
    "print('The shape of the data (samples, features) is: ', play_store_data.shape)\n",
    "play_store_data.info()"
   ]
  },
  {
   "cell_type": "code",
   "execution_count": 25,
   "metadata": {},
   "outputs": [],
   "source": [
    "#Renaming all columns so that if they have a space, it's replaced by _\n",
    "play_store_data.columns = play_store_data.columns.str.replace(\" \", \"_\")"
   ]
  },
  {
   "cell_type": "markdown",
   "metadata": {},
   "source": [
    "## Column Clean Up"
   ]
  },
  {
   "cell_type": "markdown",
   "metadata": {},
   "source": [
    "### Removing Unneeded Columns"
   ]
  },
  {
   "cell_type": "code",
   "execution_count": 26,
   "metadata": {},
   "outputs": [],
   "source": [
    "# Dropping Unnamed Columns\n",
    "play_store_data.drop(play_store_data.columns[\n",
    "    play_store_data.columns.str.contains('unnamed', case=False)], axis=1, inplace=True)\n",
    "\n",
    "# Dropping Minimum Version (Not neccesary for Hypothesis Testing)\n",
    "play_store_data.drop('Minimum_Version', axis=1, inplace=True)"
   ]
  },
  {
   "cell_type": "markdown",
   "metadata": {},
   "source": [
    "### Category Column"
   ]
  },
  {
   "cell_type": "code",
   "execution_count": 27,
   "metadata": {},
   "outputs": [],
   "source": [
    "# Grouping Game: Categories together under 'GAME'\n",
    "for i in play_store_data.Category.unique():\n",
    "    if 'GAME' in str(i):\n",
    "        play_store_data.Category.replace(i, 'GAME',inplace = True)"
   ]
  },
  {
   "cell_type": "markdown",
   "metadata": {},
   "source": [
    "### Rating Column"
   ]
  },
  {
   "cell_type": "code",
   "execution_count": 28,
   "metadata": {},
   "outputs": [],
   "source": [
    "# If there are any non numbered strings in the ratings column, its rows are dropped\n",
    "remove_non_num_str_rows(play_store_data, play_store_data.Rating)\n",
    "\n",
    "# Converting the rating column to float\n",
    "play_store_data['Rating'] = play_store_data['Rating'].astype(float).round(2)"
   ]
  },
  {
   "cell_type": "markdown",
   "metadata": {},
   "source": [
    "### Review Column"
   ]
  },
  {
   "cell_type": "code",
   "execution_count": 29,
   "metadata": {},
   "outputs": [],
   "source": [
    "# Ensuring that all the values of the reviews are string representations of integers\n",
    "play_store_data.Reviews.str.isnumeric().sum()\n",
    "\n",
    "# Converting string to integer\n",
    "play_store_data.Reviews = play_store_data.Reviews.astype(int)"
   ]
  },
  {
   "cell_type": "markdown",
   "metadata": {},
   "source": [
    "### Installs Column"
   ]
  },
  {
   "cell_type": "code",
   "execution_count": 30,
   "metadata": {},
   "outputs": [],
   "source": [
    "# Strip commas and + signs to be able to convert strings to integers\n",
    "\n",
    "play_store_data.Installs = play_store_data.Installs.apply(\n",
    "    lambda x: x.replace(',', ''))\n",
    "play_store_data.Installs = play_store_data.Installs.apply(\n",
    "    lambda x: x.strip('+'))\n",
    "\n",
    "# Convert non integer strings to NaN\n",
    "play_store_data.Installs = play_store_data.Installs.replace(' Xmax X', np.nan)"
   ]
  },
  {
   "cell_type": "markdown",
   "metadata": {},
   "source": [
    "### Size Column"
   ]
  },
  {
   "cell_type": "code",
   "execution_count": 31,
   "metadata": {},
   "outputs": [],
   "source": [
    "# Converts M(megabyte) and k(kilobyte) to numerical representations\n",
    "play_store_data.Size = play_store_data.Size.str.replace('k', 'e+3')\n",
    "play_store_data.Size = play_store_data.Size.str.replace('M', 'e+6')\n",
    "\n",
    "# Remove any commas in the numerical strings\n",
    "# Replaces the one row that has 'e+6USIC_AND_AUDIO' with NaN value.\n",
    "play_store_data.Size = play_store_data.Size.str.replace(',', '')\n",
    "play_store_data.Size = play_store_data.Size.replace(\n",
    "    'e+6USIC_AND_AUDIO', np.nan)\n",
    "\n",
    "# Creating list of bools to see what can be converted to a float\n",
    "# float_bool = play_store_data.Size.apply(lambda x: convertible_to_float(x))\n",
    "\n",
    "# Replacing 'Varies with Device' with NaN value.\n",
    "play_store_data.Size = play_store_data.Size.replace(\n",
    "    'Varies with device', np.nan)\n",
    "\n",
    "# Converting the Size Column to numeric type (convert e+6 to numeric representation)\n",
    "play_store_data.Size = pd.to_numeric(play_store_data.Size)"
   ]
  },
  {
   "cell_type": "markdown",
   "metadata": {},
   "source": [
    "### Price Column"
   ]
  },
  {
   "cell_type": "code",
   "execution_count": 32,
   "metadata": {},
   "outputs": [],
   "source": [
    "#Remove the Dollar($) sign\n",
    "play_store_data.Price = play_store_data.Price.apply(lambda x: x.strip('$'))\n",
    "\n",
    "# Conversion to a numerical value\n",
    "play_store_data.Price = pd.to_numeric(play_store_data.Price)"
   ]
  },
  {
   "cell_type": "markdown",
   "metadata": {},
   "source": [
    "### Content Rating"
   ]
  },
  {
   "cell_type": "code",
   "execution_count": 33,
   "metadata": {},
   "outputs": [],
   "source": [
    "#Have to replace the one column abnormality (3702) with NaN\n",
    "play_store_data.Content_Rating = play_store_data.Content_Rating.replace('3702', np.nan)"
   ]
  },
  {
   "cell_type": "markdown",
   "metadata": {},
   "source": [
    "### Last Updated"
   ]
  },
  {
   "cell_type": "code",
   "execution_count": 34,
   "metadata": {},
   "outputs": [],
   "source": [
    "# Replacing non-date values with NaN\n",
    "replace_non_date_str_rows(play_store_data, play_store_data.Last_Updated)\n",
    "\n",
    "# Replacing 500,000+ with NaN\n",
    "play_store_data.Last_Updated = play_store_data.Last_Updated.replace('500,000+', np.nan)\n",
    "\n",
    "# Conversion to DateTime\n",
    "play_store_data.Last_Updated = pd.to_datetime(play_store_data.Last_Updated)"
   ]
  },
  {
   "cell_type": "markdown",
   "metadata": {},
   "source": [
    "### Latest Version"
   ]
  },
  {
   "cell_type": "code",
   "execution_count": 35,
   "metadata": {},
   "outputs": [
    {
     "ename": "TypeError",
     "evalue": "'float' object is not iterable",
     "output_type": "error",
     "traceback": [
      "\u001b[0;31m---------------------------------------------------------------------------\u001b[0m",
      "\u001b[0;31mTypeError\u001b[0m                                 Traceback (most recent call last)",
      "\u001b[0;32m<ipython-input-35-ff8979b1af12>\u001b[0m in \u001b[0;36m<module>\u001b[0;34m\u001b[0m\n\u001b[1;32m      8\u001b[0m \u001b[0;34m\u001b[0m\u001b[0m\n\u001b[1;32m      9\u001b[0m \u001b[0;31m# Removes non-sized strs to NaN\u001b[0m\u001b[0;34m\u001b[0m\u001b[0;34m\u001b[0m\u001b[0;34m\u001b[0m\u001b[0m\n\u001b[0;32m---> 10\u001b[0;31m \u001b[0mreplace_non_size_str_rows\u001b[0m\u001b[0;34m(\u001b[0m\u001b[0mplay_store_data\u001b[0m\u001b[0;34m.\u001b[0m\u001b[0mLatest_Version\u001b[0m\u001b[0;34m)\u001b[0m\u001b[0;34m\u001b[0m\u001b[0;34m\u001b[0m\u001b[0m\n\u001b[0m\u001b[1;32m     11\u001b[0m \u001b[0;34m\u001b[0m\u001b[0m\n\u001b[1;32m     12\u001b[0m \u001b[0;31m# Replaces empty strings '' with NaN values\u001b[0m\u001b[0;34m\u001b[0m\u001b[0;34m\u001b[0m\u001b[0;34m\u001b[0m\u001b[0m\n",
      "\u001b[0;32m~/Galvanize/Capstones/Google-Play-Store-Download-Prediction/src/Helper_Functions.py\u001b[0m in \u001b[0;36mreplace_non_size_str_rows\u001b[0;34m(col)\u001b[0m\n\u001b[1;32m    113\u001b[0m     '''\n\u001b[1;32m    114\u001b[0m     \u001b[0;32mfor\u001b[0m \u001b[0m_\u001b[0m \u001b[0;32min\u001b[0m \u001b[0mcol\u001b[0m\u001b[0;34m:\u001b[0m\u001b[0;34m\u001b[0m\u001b[0;34m\u001b[0m\u001b[0m\n\u001b[0;32m--> 115\u001b[0;31m         \u001b[0;32mfor\u001b[0m \u001b[0mj\u001b[0m \u001b[0;32min\u001b[0m \u001b[0m_\u001b[0m\u001b[0;34m:\u001b[0m\u001b[0;34m\u001b[0m\u001b[0;34m\u001b[0m\u001b[0m\n\u001b[0m\u001b[1;32m    116\u001b[0m             \u001b[0;32mif\u001b[0m \u001b[0mj\u001b[0m \u001b[0;32mnot\u001b[0m \u001b[0;32min\u001b[0m \u001b[0;34m'.1234567890'\u001b[0m\u001b[0;34m:\u001b[0m\u001b[0;34m\u001b[0m\u001b[0;34m\u001b[0m\u001b[0m\n\u001b[1;32m    117\u001b[0m                 \u001b[0mcol\u001b[0m \u001b[0;34m=\u001b[0m \u001b[0mcol\u001b[0m\u001b[0;34m.\u001b[0m\u001b[0mreplace\u001b[0m\u001b[0;34m(\u001b[0m\u001b[0m_\u001b[0m\u001b[0;34m,\u001b[0m \u001b[0mnp\u001b[0m\u001b[0;34m.\u001b[0m\u001b[0mnan\u001b[0m\u001b[0;34m)\u001b[0m\u001b[0;34m\u001b[0m\u001b[0;34m\u001b[0m\u001b[0m\n",
      "\u001b[0;31mTypeError\u001b[0m: 'float' object is not iterable"
     ]
    }
   ],
   "source": [
    "#Finds all numerical strings, however, if they are 'Varies with Device' sets them equal to the string\n",
    "play_store_data.Latest_Version= play_store_data.Latest_Version.apply(\n",
    "    lambda x: 'Varies with device' if x=='Varies with device'  \n",
    "    else  re.findall('^[0-9]\\.[0-9]|[\\d]|W*',str(x))[0] )\n",
    "\n",
    "# Replaces 'Varies with Device' with NaN values\n",
    "play_store_data.Latest_Version = play_store_data.Latest_Version.replace('Varies with device', np.nan)\n",
    "\n",
    "# Removes non-sized strs to NaN\n",
    "replace_non_size_str_rows(play_store_data.Latest_Version)\n",
    "\n",
    "# Replaces empty strings '' with NaN values\n",
    "play_store_data.Latest_Version = play_store_data.Latest_Version.replace('', np.nan)"
   ]
  },
  {
   "cell_type": "markdown",
   "metadata": {},
   "source": [
    "## Creation of New Columns"
   ]
  },
  {
   "cell_type": "markdown",
   "metadata": {},
   "source": [
    "### Cost"
   ]
  },
  {
   "cell_type": "code",
   "execution_count": null,
   "metadata": {},
   "outputs": [],
   "source": [
    "#I'm concerned that the free apps(0.00) is going to far outtake the paid data and will skew the data to the left\n",
    "#thus I am going to make a new column that depicts Cost, in Paid and Free\n",
    "\n",
    "play_store_data['Cost'] = play_store_data.Price.apply(lambda x: 'Paid' if x > 0.00 else 'Free')\n",
    "\n",
    "#Move Columns so that Cost is next to 'Price'\n",
    "play_store_data = play_store_data[['App_Name', 'Category', 'Rating', 'Reviews', 'Installs', 'Size', 'Price',\n",
    "                                   'Cost', 'Content_Rating', 'Last_Updated', 'Latest_Version']]"
   ]
  },
  {
   "cell_type": "markdown",
   "metadata": {},
   "source": [
    "### Days Since Last Update"
   ]
  },
  {
   "cell_type": "code",
   "execution_count": null,
   "metadata": {},
   "outputs": [],
   "source": [
    "# Initializing the date the data was scraped\n",
    "day_scrape = date(2019, 4, 4)\n",
    "\n",
    "# Initialization of the column\n",
    "# Difference in date scraped from date last updated\n",
    "play_store_data['Days_Since_Update'] = play_store_data.Last_Updated.apply(\n",
    "    lambda x: day_scrape - datetime.date(x))\n",
    "\n",
    "# Convert to type string\n",
    "play_store_data.Days_Since_Update = play_store_data.Days_Since_Update.astype(\n",
    "    str)\n",
    "\n",
    "# Remove commas and spaces\n",
    "play_store_data.Days_Since_Update = play_store_data.Days_Since_Update.apply(\n",
    "    lambda x: x.split(',')[0]).apply(lambda x: x.split('d')[0])\n",
    "play_store_data.Days_Since_Update = play_store_data.Days_Since_Update.str.replace(\n",
    "    ' ', '')\n",
    "\n",
    "# Replacing and NaN's with 0 days\n",
    "for i in play_store_data.Days_Since_Update:\n",
    "    for j in i:\n",
    "        if j == ':':\n",
    "            play_store_data.Days_Since_Update = play_store_data.Days_Since_Update.replace(\n",
    "                i, '0')\n",
    "\n",
    "# Updating Days Since Update column to integers\n",
    "play_store_data.Days_Since_Update = play_store_data.Days_Since_Update.astype(\n",
    "    int)"
   ]
  },
  {
   "cell_type": "markdown",
   "metadata": {},
   "source": [
    "## Final Edits"
   ]
  },
  {
   "cell_type": "markdown",
   "metadata": {},
   "source": [
    "### Remove Columns with NaN values"
   ]
  },
  {
   "cell_type": "code",
   "execution_count": null,
   "metadata": {},
   "outputs": [],
   "source": [
    "play_store_data.dropna(how='any', inplace = True)"
   ]
  },
  {
   "cell_type": "markdown",
   "metadata": {},
   "source": [
    "### Save Cleaned DataSet"
   ]
  },
  {
   "cell_type": "code",
   "execution_count": null,
   "metadata": {},
   "outputs": [],
   "source": [
    "play_store_data.to_csv('../Data/Cleaned_Play_Store_Data.csv')"
   ]
  }
 ],
 "metadata": {
  "kernelspec": {
   "display_name": "Python 3.7.4 64-bit ('base': conda)",
   "language": "python",
   "name": "python37464bitbaseconda7d173c5ac3d647bb86950a56c57e9e53"
  },
  "language_info": {
   "codemirror_mode": {
    "name": "ipython",
    "version": 3
   },
   "file_extension": ".py",
   "mimetype": "text/x-python",
   "name": "python",
   "nbconvert_exporter": "python",
   "pygments_lexer": "ipython3",
   "version": "3.7.4"
  },
  "toc": {
   "base_numbering": 1,
   "nav_menu": {},
   "number_sections": true,
   "sideBar": true,
   "skip_h1_title": false,
   "title_cell": "Table of Contents",
   "title_sidebar": "Contents",
   "toc_cell": false,
   "toc_position": {},
   "toc_section_display": true,
   "toc_window_display": false
  }
 },
 "nbformat": 4,
 "nbformat_minor": 2
}
